{
  "nbformat": 4,
  "nbformat_minor": 0,
  "metadata": {
    "colab": {
      "name": "python practice problem.ipynb",
      "provenance": [],
      "authorship_tag": "ABX9TyNalhSoXpSr8kDfKBNlL7W9",
      "include_colab_link": true
    },
    "kernelspec": {
      "name": "python3",
      "display_name": "Python 3"
    },
    "language_info": {
      "name": "python"
    }
  },
  "cells": [
    {
      "cell_type": "markdown",
      "metadata": {
        "id": "view-in-github",
        "colab_type": "text"
      },
      "source": [
        "<a href=\"https://colab.research.google.com/github/ajit04022000/tmdb_movies_dataset/blob/main/python_practice_problem.ipynb\" target=\"_parent\"><img src=\"https://colab.research.google.com/assets/colab-badge.svg\" alt=\"Open In Colab\"/></a>"
      ]
    },
    {
      "cell_type": "markdown",
      "source": [
        "##<b>1) User will input (3ages).Find the oldest one"
      ],
      "metadata": {
        "id": "C9F6NwCm5oj6"
      }
    },
    {
      "cell_type": "code",
      "execution_count": null,
      "metadata": {
        "id": "tURGOGsqGxLo",
        "colab": {
          "base_uri": "https://localhost:8080/"
        },
        "outputId": "0b1bf1de-1f1d-4310-b294-588e42baf735"
      },
      "outputs": [
        {
          "output_type": "stream",
          "name": "stdout",
          "text": [
            "enter thr 1st age : 55\n",
            "enter thr 2nd age : 78\n",
            "enter thr 3rd age : 11\n",
            "the oldest age is :\n"
          ]
        },
        {
          "output_type": "execute_result",
          "data": {
            "text/plain": [
              "78"
            ]
          },
          "metadata": {},
          "execution_count": 21
        }
      ],
      "source": [
        "first = int(input(\"enter thr 1st age : \"))\n",
        "second = int(input(\"enter thr 2nd age : \"))\n",
        "third = int(input(\"enter thr 3rd age : \"))\n",
        "new_list = []\n",
        "new_list.append(first)\n",
        "new_list.append(second)\n",
        "new_list.append(third)\n",
        "print(\"the oldest age is :\" )\n",
        "sorted(new_list)[-1]"
      ]
    },
    {
      "cell_type": "markdown",
      "source": [
        "##<b>2) Write a program that will convert celsius value to fahrenheit"
      ],
      "metadata": {
        "id": "hnju_2wX-jGl"
      }
    },
    {
      "cell_type": "markdown",
      "source": [
        "The formula for Fahrenheit to Celsius is °C = [(°F-32)×5]/9"
      ],
      "metadata": {
        "id": "peFaSiag_H1I"
      }
    },
    {
      "cell_type": "code",
      "source": [
        "far  = int(input(\"calculating the celcius of : \"))\n",
        "def far_cel (far):\n",
        "  cel = (far-32)*5/9\n",
        "  return cel\n",
        "print(f\"the celsius of {far} is : {int(far_cel(far))}\")"
      ],
      "metadata": {
        "colab": {
          "base_uri": "https://localhost:8080/"
        },
        "id": "WNvUJ_PSCgli",
        "outputId": "601cd220-f0a9-4656-f38c-14f032e5c72b"
      },
      "execution_count": null,
      "outputs": [
        {
          "output_type": "stream",
          "name": "stdout",
          "text": [
            "calculating the celcius of : 5\n",
            "the celsius of 5 is : -15\n"
          ]
        }
      ]
    },
    {
      "cell_type": "markdown",
      "source": [
        "##<b> 3)User will input (2numbers).Write a program to swap the numbers"
      ],
      "metadata": {
        "id": "Lms_fz1kAkQ1"
      }
    },
    {
      "cell_type": "code",
      "source": [
        "# To take inputs from the user\n",
        "x = input('Enter value of x: ')\n",
        "y = input('Enter value of y: ')\n",
        "\n",
        "# create a temporary variable and swap the values\n",
        "temp = x\n",
        "x = y\n",
        "y = temp\n",
        "\n",
        "print('The value of x after swapping: {}'.format(x))\n",
        "print('The value of y after swapping: {}'.format(y))"
      ],
      "metadata": {
        "colab": {
          "base_uri": "https://localhost:8080/"
        },
        "id": "7VoDf0NlGIu9",
        "outputId": "74ce2468-a41d-4d52-e315-e3bcb2a972f1"
      },
      "execution_count": null,
      "outputs": [
        {
          "output_type": "stream",
          "name": "stdout",
          "text": [
            "Enter value of x: 55\n",
            "Enter value of y: 11\n",
            "The value of x after swapping: 11\n",
            "The value of y after swapping: 55\n"
          ]
        }
      ]
    },
    {
      "cell_type": "markdown",
      "source": [
        "##<b>4)Write a program that will give you the sum of 3 digits"
      ],
      "metadata": {
        "id": "mjtyZy3VHOzx"
      }
    },
    {
      "cell_type": "code",
      "source": [
        "first = int(input('give the 1st number : '))\n",
        "second = int(input('give the 2st number : '))\n",
        "third = int(input('give the 3st number : '))\n",
        "\n",
        "def summation(first,second,third):\n",
        "  adding = (first+second+third)\n",
        "  return adding\n",
        "print(f\"the summation of first,second,third is : {summation(first,second,third)}\")"
      ],
      "metadata": {
        "colab": {
          "base_uri": "https://localhost:8080/"
        },
        "id": "KqriXB2UGymU",
        "outputId": "223a8c31-06fa-4969-8cea-92bbfc580f49"
      },
      "execution_count": null,
      "outputs": [
        {
          "output_type": "stream",
          "name": "stdout",
          "text": [
            "give the 1st number : 5\n",
            "give the 2st number : 5\n",
            "give the 3st number : 5\n",
            "the summation of first,second,third is : 15\n"
          ]
        }
      ]
    },
    {
      "cell_type": "code",
      "source": [
        "summation(1,5,6)"
      ],
      "metadata": {
        "colab": {
          "base_uri": "https://localhost:8080/"
        },
        "id": "m69jtMVBHitY",
        "outputId": "f3baaf2b-c901-4bce-e963-aafa2b93d565"
      },
      "execution_count": null,
      "outputs": [
        {
          "output_type": "execute_result",
          "data": {
            "text/plain": [
              "12"
            ]
          },
          "metadata": {},
          "execution_count": 68
        }
      ]
    },
    {
      "cell_type": "markdown",
      "source": [
        "##<b>4) Write a program that will reverse a four digit number.Also it checks whether the reverse is true."
      ],
      "metadata": {
        "id": "YMxFbQCZeppB"
      }
    },
    {
      "cell_type": "code",
      "source": [
        "num = int(input(\"input the four degits number :\"))\n",
        "reversed_num = 0\n",
        "\n",
        "while num != 0:\n",
        "    digit = num % 10\n",
        "    reversed_num = reversed_num * 10 + digit\n",
        "    num //= 10\n",
        "\n",
        "print(\"Reversed Number: \" + str(reversed_num))"
      ],
      "metadata": {
        "id": "Nv64sZwGHmZP",
        "colab": {
          "base_uri": "https://localhost:8080/"
        },
        "outputId": "99e9cd22-6206-4546-f090-77493171ee29"
      },
      "execution_count": 2,
      "outputs": [
        {
          "output_type": "stream",
          "name": "stdout",
          "text": [
            "input the four degits number :1234\n",
            "Reversed Number: 4321\n"
          ]
        }
      ]
    },
    {
      "cell_type": "code",
      "source": [
        "## its also a string slicing method to the same task\n",
        "num = int(input(\"input the four degits number :\"))\n",
        "print(f'Reversed Number: {str(num)[::-1]}')"
      ],
      "metadata": {
        "colab": {
          "base_uri": "https://localhost:8080/"
        },
        "id": "iv0pIZKBfpaB",
        "outputId": "fce932ac-dea8-4ad2-9926-24d02c7cb6c4"
      },
      "execution_count": 6,
      "outputs": [
        {
          "output_type": "stream",
          "name": "stdout",
          "text": [
            "input the four degits number :4567\n",
            "Reversed Number: 7654\n"
          ]
        }
      ]
    },
    {
      "cell_type": "markdown",
      "source": [
        "##<b>5)Write a program that will tell whether the number entered by the user is odd or even."
      ],
      "metadata": {
        "id": "cMgXDgZ1gQ0l"
      }
    },
    {
      "cell_type": "code",
      "source": [
        "def fid_num(num):\n",
        "  if num%2==0:\n",
        "    print(f\"the number {num} is a even number\")\n",
        "  else:\n",
        "    print(f\"the number {num} is a odd number\")"
      ],
      "metadata": {
        "id": "P1CyaEmdf0eu"
      },
      "execution_count": 22,
      "outputs": []
    },
    {
      "cell_type": "code",
      "source": [
        "num = int(input(\"input the number :\"))\n",
        "fid_num(num)"
      ],
      "metadata": {
        "colab": {
          "base_uri": "https://localhost:8080/"
        },
        "id": "XC7Ks9_hhz63",
        "outputId": "c625022f-1bae-4566-ebaa-b0c9ab300f88"
      },
      "execution_count": 24,
      "outputs": [
        {
          "output_type": "stream",
          "name": "stdout",
          "text": [
            "input the number :3\n",
            "the number 3 is a odd number\n"
          ]
        }
      ]
    },
    {
      "cell_type": "code",
      "source": [
        "\n"
      ],
      "metadata": {
        "id": "6DrxVnjchMhy"
      },
      "execution_count": null,
      "outputs": []
    }
  ]
}